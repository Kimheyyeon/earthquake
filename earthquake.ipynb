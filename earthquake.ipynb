{
  "nbformat": 4,
  "nbformat_minor": 0,
  "metadata": {
    "colab": {
      "provenance": [],
      "authorship_tag": "ABX9TyOvOAnlVrciMwKwMCumoZnN",
      "include_colab_link": true
    },
    "kernelspec": {
      "name": "python3",
      "display_name": "Python 3"
    },
    "language_info": {
      "name": "python"
    }
  },
  "cells": [
    {
      "cell_type": "markdown",
      "metadata": {
        "id": "view-in-github",
        "colab_type": "text"
      },
      "source": [
        "<a href=\"https://colab.research.google.com/github/Kimheyyeon/earthquake/blob/main/earthquake.ipynb\" target=\"_parent\"><img src=\"https://colab.research.google.com/assets/colab-badge.svg\" alt=\"Open In Colab\"/></a>"
      ]
    },
    {
      "cell_type": "code",
      "execution_count": 13,
      "metadata": {
        "colab": {
          "base_uri": "https://localhost:8080/"
        },
        "id": "JiRI4Z-vTkL_",
        "outputId": "7b623185-41ff-4c30-8cfa-d3153ebe70ca"
      },
      "outputs": [
        {
          "output_type": "stream",
          "name": "stdout",
          "text": [
            "<?xml version=\"1.0\" encoding=\"UTF-8\"?>\r\n",
            "<response><header><resultCode>00</resultCode><resultMsg>NORMAL_SERVICE</resultMsg></header><body><dataType>XML</dataType><items><item><cnt>1</cnt><fcTp>3</fcTp><img>http://www.weather.go.kr/w/repositary/image/eqk/img/eqk_img_3_20240315223542.png</img><inT>최대진도 Ⅰ</inT><lat>41.3</lat><loc>북한 함경북도 길주 북북서쪽 40km 지역</loc><lon>129.19</lon><mt>2.2</mt><rem>자연지진으로 분석됨</rem><stnId>108</stnId><tmEqk>20240315223542</tmEqk><tmFc>202403152322</tmFc><tmSeq>280</tmSeq><dep>15</dep></item><item><cnt>1</cnt><fcTp>2</fcTp><img>http://www.weather.go.kr/w/repositary/image/eqk/img/eqk_img_2_20240315061025.png</img><inT></inT><lat>29.83</lat><loc>북대서양 중앙 해령</loc><lon>-42.66</lon><mt>6.0</mt><rem>국내영향없음. 위 자료는 미지질조사소(USGS) 분석결과임.</rem><stnId>108</stnId><tmEqk>20240315061025</tmEqk><tmFc>202403150636</tmFc><tmSeq>275</tmSeq><dep>10</dep></item></items><numOfRows>10</numOfRows><pageNo>1</pageNo><totalCount>2</totalCount></body></response>\r\n",
            "\n"
          ]
        }
      ],
      "source": [
        "import requests\n",
        "from bs4 import BeautifulSoup\n",
        "\n",
        "r = requests.get('http://apis.data.go.kr/1360000/EqkInfoService/getEqkMsg?serviceKey=74488ATjG6qbQnCTfZzVnZEgVdMs7L5cjK%2BSmnwGbuyumLfGyX66zdDBO4gnMt8L4s9YG1K9m3EFexuVjP4ohg%3D%3D&numOfRows=10&pageNo=1&fromTmFc=20240315&toTmFc=20240318')\n",
        "print(r.text)"
      ]
    },
    {
      "cell_type": "code",
      "source": [
        "soup = BeautifulSoup(r.text, features=\"xml\")"
      ],
      "metadata": {
        "id": "NhITDtUlZ20F"
      },
      "execution_count": 14,
      "outputs": []
    },
    {
      "cell_type": "code",
      "source": [
        "print(\"진앙위치\")\n",
        "soup.find_all('loc')"
      ],
      "metadata": {
        "colab": {
          "base_uri": "https://localhost:8080/"
        },
        "id": "e3vQQld0Z3g-",
        "outputId": "575b73e9-c9dc-4f02-ed4f-eb5e3b516fbc"
      },
      "execution_count": 22,
      "outputs": [
        {
          "output_type": "stream",
          "name": "stdout",
          "text": [
            "진앙위치\n"
          ]
        },
        {
          "output_type": "execute_result",
          "data": {
            "text/plain": [
              "[<loc>북한 함경북도 길주 북북서쪽 40km 지역</loc>, <loc>북대서양 중앙 해령</loc>]"
            ]
          },
          "metadata": {},
          "execution_count": 22
        }
      ]
    },
    {
      "cell_type": "code",
      "source": [
        "print(\"규모\")\n",
        "soup.find_all('mt')"
      ],
      "metadata": {
        "colab": {
          "base_uri": "https://localhost:8080/"
        },
        "id": "IFrMk0yKdFhF",
        "outputId": "d6a74484-4600-458c-d631-77a54b2c324c"
      },
      "execution_count": 23,
      "outputs": [
        {
          "output_type": "stream",
          "name": "stdout",
          "text": [
            "규모\n"
          ]
        },
        {
          "output_type": "execute_result",
          "data": {
            "text/plain": [
              "[<mt>2.2</mt>, <mt>6.0</mt>]"
            ]
          },
          "metadata": {},
          "execution_count": 23
        }
      ]
    },
    {
      "cell_type": "code",
      "source": [
        "print(\"진도\")\n",
        "soup.find_all('inT')"
      ],
      "metadata": {
        "colab": {
          "base_uri": "https://localhost:8080/"
        },
        "id": "1JoPuHwkaAHM",
        "outputId": "a0e71f8b-fc70-41a3-c976-17eb55b9e038"
      },
      "execution_count": 24,
      "outputs": [
        {
          "output_type": "stream",
          "name": "stdout",
          "text": [
            "진도\n"
          ]
        },
        {
          "output_type": "execute_result",
          "data": {
            "text/plain": [
              "[<inT>최대진도 Ⅰ</inT>, <inT/>]"
            ]
          },
          "metadata": {},
          "execution_count": 24
        }
      ]
    },
    {
      "cell_type": "code",
      "source": [
        "print(\"깊이\")\n",
        "soup.find_all('dep')"
      ],
      "metadata": {
        "colab": {
          "base_uri": "https://localhost:8080/"
        },
        "id": "s942h3EydmFt",
        "outputId": "a6ec1daa-f19a-46e7-9c81-1f5452649b3e"
      },
      "execution_count": 25,
      "outputs": [
        {
          "output_type": "stream",
          "name": "stdout",
          "text": [
            "깊이\n"
          ]
        },
        {
          "output_type": "execute_result",
          "data": {
            "text/plain": [
              "[<dep>15</dep>, <dep>10</dep>]"
            ]
          },
          "metadata": {},
          "execution_count": 25
        }
      ]
    }
  ]
}